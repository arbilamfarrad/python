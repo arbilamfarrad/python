{
 "cells": [
  {
   "cell_type": "markdown",
   "metadata": {},
   "source": [
    "<table width='100%' border='0'>\n",
    "    <tr>\n",
    "        <td><img src='images/ucd.png' width='120'></td>\n",
    "        <td><img src='images/dept_inf.png' width='350'></td>\n",
    "        <td><img src='images/fs.png' width='120'></td>\n",
    "    </tr>\n",
    "</table>"
   ]
  },
  {
   "cell_type": "markdown",
   "metadata": {},
   "source": [
    "# Langage Python\n",
    "\n",
    "Email : <a href='mailto:madani.a@ucd.ac.ma'>madani.a@ucd.ac.ma</a>\n",
    "<img src='images/python.png'>\n",
    "\n",
    "## Pré-requis\n",
    "<p>Même si cette formation est une initiation au Machine Learning, il faudra quant même avoir quelques connaissances en informatique, surtout :</p>\n",
    "<ul>\n",
    "    <li>Un très bon niveau en algorithmique</li>\n",
    "    <li>Une Maitrise d'un langage de programmation</li>\n",
    "    <li>Etre bon en Mathématiques</li>\n",
    "    <li>Savoir utiliser les dépôts GitHub</li>\n",
    "</ul>\n",
    "\n",
    "## Table de matières\n",
    "\n",
    "### Concepts de base\n",
    "1.\tIntroduction\n",
    "2.\tEntrées/sorties et variables\n",
    "3.\tContrôle de flux d’instructions : IF\n",
    "4.\tBoucles : FOR et WHILE\n",
    "\n",
    "### Concepts avancés\n",
    "1.\tConteneurs standards : listes, tuples, ensembles et dictionnaires\n",
    "2.\tFonctions et procédures\n",
    "3.\tModules\n",
    "4.\tProgrammation orientée objets\n",
    "5.\tExceptions\n",
    "\n",
    "### Exemples de modules les plus utilisés\n",
    "1. Numpy\n",
    "2. Matplotlib\n",
    "3. Pandas\n",
    "4. OpenCV\n",
    "\n",
    "### Travaux à rendre"
   ]
  }
 ],
 "metadata": {
  "kernelspec": {
   "display_name": "Python 3",
   "language": "python",
   "name": "python3"
  },
  "language_info": {
   "codemirror_mode": {
    "name": "ipython",
    "version": 3
   },
   "file_extension": ".py",
   "mimetype": "text/x-python",
   "name": "python",
   "nbconvert_exporter": "python",
   "pygments_lexer": "ipython3",
   "version": "3.8.8"
  }
 },
 "nbformat": 4,
 "nbformat_minor": 2
}
