{
 "cells": [
  {
   "cell_type": "markdown",
   "id": "92ee9d02",
   "metadata": {},
   "source": [
    "# Titre1\n",
    "## Titre 2\n",
    "c'est un <b>essai</b>"
   ]
  },
  {
   "cell_type": "code",
   "execution_count": 39,
   "id": "51b54e34",
   "metadata": {},
   "outputs": [
    {
     "name": "stdout",
     "output_type": "stream",
     "text": [
      "Requirement already satisfied: numpy in /Users/madani/opt/anaconda3/lib/python3.8/site-packages (1.20.1)\n",
      "Note: you may need to restart the kernel to use updated packages.\n"
     ]
    }
   ],
   "source": [
    "pip install numpy"
   ]
  }
 ],
 "metadata": {
  "kernelspec": {
   "display_name": "Python 3",
   "language": "python",
   "name": "python3"
  },
  "language_info": {
   "codemirror_mode": {
    "name": "ipython",
    "version": 3
   },
   "file_extension": ".py",
   "mimetype": "text/x-python",
   "name": "python",
   "nbconvert_exporter": "python",
   "pygments_lexer": "ipython3",
   "version": "3.8.8"
  }
 },
 "nbformat": 4,
 "nbformat_minor": 5
}
