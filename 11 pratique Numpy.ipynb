{
 "cells": [
  {
   "cell_type": "markdown",
   "metadata": {},
   "source": [
    "<table width='100%' border='0'>\n",
    "    <tr>\n",
    "        <td><img src='images/ucd.png' width='120'></td>\n",
    "        <td><img src='images/dept_inf.png' width='350'></td>\n",
    "        <td><img src='images/fs.png' width='120'></td>\n",
    "    </tr>\n",
    "</table>"
   ]
  },
  {
   "cell_type": "markdown",
   "metadata": {},
   "source": [
    "# Langage Python\n",
    "\n",
    "Email : <a href='mailto:madani.a@ucd.ac.ma'>madani.a@ucd.ac.ma</a>\n",
    "<img src='images/python.png'>"
   ]
  },
  {
   "cell_type": "markdown",
   "metadata": {},
   "source": [
    "# <center>Pratique de Numpy</center>"
   ]
  },
  {
   "cell_type": "markdown",
   "metadata": {},
   "source": [
    "## Importer les modules nécessaires dans cet exercice"
   ]
  },
  {
   "cell_type": "code",
   "execution_count": 2,
   "metadata": {},
   "outputs": [],
   "source": [
    "import numpy as np\n",
    "import random"
   ]
  },
  {
   "cell_type": "markdown",
   "metadata": {},
   "source": [
    "### Utiliser les méthodes floor, ceil, round et trunc"
   ]
  },
  {
   "cell_type": "code",
   "execution_count": 4,
   "metadata": {},
   "outputs": [
    {
     "name": "stdout",
     "output_type": "stream",
     "text": [
      "Floor  5.0\n",
      "Ceil  6.0\n",
      "Round  6.0\n",
      "Trunc  5.0\n",
      "La partie entiere est  5\n"
     ]
    }
   ],
   "source": [
    "val = 5.99\n",
    "print(\"Floor \",np.floor(val))\n",
    "print(\"Ceil \",np.ceil(val))\n",
    "print(\"Round \",np.round(val))\n",
    "print(\"Trunc \",np.trunc(val))\n",
    "print(\"La partie entiere est \", int(val))"
   ]
  },
  {
   "cell_type": "code",
   "execution_count": 23,
   "metadata": {},
   "outputs": [
    {
     "name": "stdout",
     "output_type": "stream",
     "text": [
      "val : [1.  5.6 7.2 8.9]\n",
      "Floor  [1. 5. 7. 8.]\n",
      "Ceil  [1. 6. 8. 9.]\n",
      "Round  [1. 6. 7. 9.]\n",
      "Trunc  [1. 5. 7. 8.]\n"
     ]
    }
   ],
   "source": [
    "val = np.array([1, 5.6, 7.2, 8.9])\n",
    "print(\"val :\", val)\n",
    "print(\"Floor \",np.floor(val))\n",
    "print(\"Ceil \",np.ceil(val))\n",
    "print(\"Round \",np.round(val))\n",
    "print(\"Trunc \",np.trunc(val))"
   ]
  },
  {
   "cell_type": "markdown",
   "metadata": {},
   "source": [
    "### Tester si aucun élément n’est nul dans un tableau"
   ]
  },
  {
   "cell_type": "code",
   "execution_count": 29,
   "metadata": {},
   "outputs": [
    {
     "name": "stdout",
     "output_type": "stream",
     "text": [
      "Toutes les notes sont >= à 10 :  False\n",
      "Il existe au moins une note >= à 10 True\n"
     ]
    }
   ],
   "source": [
    "#Rappels sur all et any de numpy\n",
    "notes = np.array([9, 0, 15.75, 17.25, 10.5, 9.75])\n",
    "print(\"Toutes les notes sont >= à 10 : \",np.all(notes>=10))\n",
    "print(\"Il existe au moins une note >= à 10\",np.any(notes>=10))"
   ]
  },
  {
   "cell_type": "code",
   "execution_count": 33,
   "metadata": {},
   "outputs": [
    {
     "name": "stdout",
     "output_type": "stream",
     "text": [
      "False\n",
      "False\n"
     ]
    }
   ],
   "source": [
    "#Réponse à l'exercice\n",
    "#Tous les éléments sont non nuls\n",
    "# np.all(condition)\n",
    "print(np.all(notes==0))\n",
    "print(np.all(notes))"
   ]
  },
  {
   "cell_type": "markdown",
   "metadata": {},
   "source": [
    "### Tester s’il existe au moins un élément nul dans un tableau numpy."
   ]
  },
  {
   "cell_type": "code",
   "execution_count": 34,
   "metadata": {},
   "outputs": [
    {
     "name": "stdout",
     "output_type": "stream",
     "text": [
      "Il existe au moins un élément nul  True\n"
     ]
    }
   ],
   "source": [
    "notes = np.array([9, 0, 15.75, 17.25, 10.5, 9.75]) #from scratch\n",
    "print(\"Il existe au moins un élément nul \", np.any(notes==0))"
   ]
  },
  {
   "cell_type": "markdown",
   "metadata": {},
   "source": [
    "### Créer un tableau Numpy d’entiers compris entre 30 et 70."
   ]
  },
  {
   "cell_type": "code",
   "execution_count": 38,
   "metadata": {},
   "outputs": [
    {
     "name": "stdout",
     "output_type": "stream",
     "text": [
      "3\n",
      "4\n",
      "5\n",
      "6\n",
      "7\n",
      "8\n",
      "9\n",
      "-----------------\n",
      "3\n",
      "5\n",
      "7\n",
      "9\n",
      "--------------\n",
      "0\n",
      "1\n",
      "2\n",
      "3\n",
      "4\n",
      "5\n",
      "6\n",
      "7\n",
      "8\n",
      "9\n"
     ]
    }
   ],
   "source": [
    "#Rappels de range\n",
    "for i in range(3, 10):#3, 4, 5, ..., 9\n",
    "    print(i)\n",
    "print(\"-----------------\")\n",
    "for i in range(3, 10,2):#3, 5, 7, 9\n",
    "    print(i)\n",
    "print(\"--------------\")\n",
    "for i in range(10):#3, 4, 5, ..., 9\n",
    "    print(i)"
   ]
  },
  {
   "cell_type": "code",
   "execution_count": 48,
   "metadata": {},
   "outputs": [
    {
     "name": "stdout",
     "output_type": "stream",
     "text": [
      "[30 31 32 33 34 35 36 37 38 39 40 41 42 43 44 45 46 47 48 49 50 51 52 53\n",
      " 54 55 56 57 58 59 60 61 62 63 64 65 66 67 68 69 70]\n",
      "70\n",
      "30\n",
      "2050\n",
      "50.0\n"
     ]
    }
   ],
   "source": [
    "tab = np.arange(30,71)\n",
    "print(tab)\n",
    "print(np.max(tab))\n",
    "print(np.min(tab))\n",
    "print(np.sum(tab))\n",
    "print(np.mean(tab))"
   ]
  },
  {
   "cell_type": "code",
   "execution_count": 49,
   "metadata": {},
   "outputs": [
    {
     "name": "stdout",
     "output_type": "stream",
     "text": [
      "0\n",
      "1\n",
      "2\n",
      "3\n",
      "4\n",
      "5\n",
      "6\n",
      "7\n",
      "8\n",
      "9\n"
     ]
    }
   ],
   "source": [
    "for i in np.arange(10):\n",
    "    print(i)"
   ]
  },
  {
   "cell_type": "markdown",
   "metadata": {},
   "source": [
    "### Créer un tableau NumPy contenant les nombres pairs compris entre 30 et 70."
   ]
  },
  {
   "cell_type": "code",
   "execution_count": 55,
   "metadata": {},
   "outputs": [
    {
     "data": {
      "text/plain": [
       "array([30, 32, 34, 36, 38, 40, 42, 44, 46, 48, 50, 52, 54, 56, 58, 60, 62,\n",
       "       64, 66, 68, 70])"
      ]
     },
     "execution_count": 55,
     "metadata": {},
     "output_type": "execute_result"
    }
   ],
   "source": [
    "tab = np.arange(30, 71, 2)\n",
    "tab"
   ]
  },
  {
   "cell_type": "code",
   "execution_count": 58,
   "metadata": {},
   "outputs": [
    {
     "data": {
      "text/plain": [
       "list"
      ]
     },
     "execution_count": 58,
     "metadata": {},
     "output_type": "execute_result"
    }
   ],
   "source": [
    "tab = []\n",
    "for i in range(30, 71):\n",
    "    if i%2==0:\n",
    "        tab.append(i)\n",
    "type(tab)"
   ]
  },
  {
   "cell_type": "markdown",
   "metadata": {},
   "source": [
    "### Créer une matrice identité 3x3"
   ]
  },
  {
   "cell_type": "code",
   "execution_count": 69,
   "metadata": {},
   "outputs": [
    {
     "data": {
      "text/plain": [
       "array([[1., 0., 0.],\n",
       "       [0., 1., 0.],\n",
       "       [0., 0., 1.]])"
      ]
     },
     "execution_count": 69,
     "metadata": {},
     "output_type": "execute_result"
    }
   ],
   "source": [
    "np.eye(3)"
   ]
  },
  {
   "cell_type": "code",
   "execution_count": 67,
   "metadata": {},
   "outputs": [
    {
     "data": {
      "text/plain": [
       "array([[1., 0., 0.],\n",
       "       [0., 1., 0.],\n",
       "       [0., 0., 1.]])"
      ]
     },
     "execution_count": 67,
     "metadata": {},
     "output_type": "execute_result"
    }
   ],
   "source": [
    "np.identity(3)"
   ]
  },
  {
   "cell_type": "markdown",
   "metadata": {},
   "source": [
    "### Générer un nombre aléatoire compris entre 0 et 1."
   ]
  },
  {
   "cell_type": "code",
   "execution_count": 2,
   "metadata": {},
   "outputs": [
    {
     "name": "stdout",
     "output_type": "stream",
     "text": [
      "0.6398623654116842\n"
     ]
    }
   ],
   "source": [
    "#un nombre aléatoire réel entre [0,1[\n",
    "import random\n",
    "x = random.random()\n",
    "print(x)"
   ]
  },
  {
   "cell_type": "code",
   "execution_count": 101,
   "metadata": {},
   "outputs": [
    {
     "name": "stdout",
     "output_type": "stream",
     "text": [
      "6.516507710611416\n"
     ]
    }
   ],
   "source": [
    "#un nombre aléatoire réel entre [a, b[\n",
    "a=5\n",
    "b=10\n",
    "x = (b-a)*random.random()+a\n",
    "print(x)"
   ]
  },
  {
   "cell_type": "code",
   "execution_count": 107,
   "metadata": {},
   "outputs": [
    {
     "name": "stdout",
     "output_type": "stream",
     "text": [
      "6.661451734671122\n"
     ]
    }
   ],
   "source": [
    "#un nombre aléatoire réel entre [a, b[\n",
    "x = random.uniform(5, 10)\n",
    "print(x)"
   ]
  },
  {
   "cell_type": "code",
   "execution_count": 122,
   "metadata": {
    "scrolled": true
   },
   "outputs": [
    {
     "name": "stdout",
     "output_type": "stream",
     "text": [
      "10\n"
     ]
    }
   ],
   "source": [
    "#un nombre aléatoire entier entre [a, b]\n",
    "x = random.randint(5,10)\n",
    "print(x)"
   ]
  },
  {
   "cell_type": "code",
   "execution_count": 5,
   "metadata": {},
   "outputs": [
    {
     "data": {
      "text/plain": [
       "'Souhar'"
      ]
     },
     "execution_count": 5,
     "metadata": {},
     "output_type": "execute_result"
    }
   ],
   "source": [
    "#Choisir un élément au hasard à partir d'une liste\n",
    "liste =['Madani','Souhar','Barakatou','Zouaki']\n",
    "random.choice(liste)"
   ]
  },
  {
   "cell_type": "code",
   "execution_count": 10,
   "metadata": {},
   "outputs": [
    {
     "data": {
      "text/plain": [
       "'Barakatou'"
      ]
     },
     "execution_count": 10,
     "metadata": {},
     "output_type": "execute_result"
    }
   ],
   "source": [
    "np.random.choice(liste)"
   ]
  },
  {
   "cell_type": "code",
   "execution_count": 139,
   "metadata": {},
   "outputs": [
    {
     "data": {
      "text/plain": [
       "array([0.07511682, 0.67773599, 0.13844739, 0.09518084, 0.9768966 ])"
      ]
     },
     "execution_count": 139,
     "metadata": {},
     "output_type": "execute_result"
    }
   ],
   "source": [
    "#une matrice 1d de 10 valeurs aléatoires [0,1[\n",
    "np.random.random(5)"
   ]
  },
  {
   "cell_type": "code",
   "execution_count": 153,
   "metadata": {},
   "outputs": [
    {
     "data": {
      "text/plain": [
       "array([[0.59054039, 0.67485216, 0.75115092],\n",
       "       [0.46635278, 0.90948473, 0.7952046 ],\n",
       "       [0.90090725, 0.81503656, 0.50105467],\n",
       "       [0.20530458, 0.86508433, 0.7316198 ],\n",
       "       [0.26888513, 0.89235714, 0.28543553]])"
      ]
     },
     "execution_count": 153,
     "metadata": {},
     "output_type": "execute_result"
    }
   ],
   "source": [
    "#une matrice 2d de 10 valeurs aléatoires [0,1[\n",
    "np.random.random((5,3))"
   ]
  },
  {
   "cell_type": "code",
   "execution_count": 163,
   "metadata": {},
   "outputs": [
    {
     "data": {
      "text/plain": [
       "array([4, 1, 4, 1, 3, 3, 4, 3, 2, 2])"
      ]
     },
     "execution_count": 163,
     "metadata": {},
     "output_type": "execute_result"
    }
   ],
   "source": [
    "#tableau de 10 valeurs aléatoires entre 1 et 5\n",
    "np.random.randint(1, 5, 10)"
   ]
  },
  {
   "cell_type": "code",
   "execution_count": 171,
   "metadata": {},
   "outputs": [
    {
     "data": {
      "text/plain": [
       "5"
      ]
     },
     "execution_count": 171,
     "metadata": {},
     "output_type": "execute_result"
    }
   ],
   "source": [
    "#Choir un élément au hasard à partir d'un tableau Numpy\n",
    "tab = np.arange(0, 21)\n",
    "np.random.choice(tab)"
   ]
  },
  {
   "cell_type": "code",
   "execution_count": 178,
   "metadata": {},
   "outputs": [
    {
     "data": {
      "text/plain": [
       "array([ 8, 19, 12, 18,  6, 18])"
      ]
     },
     "execution_count": 178,
     "metadata": {},
     "output_type": "execute_result"
    }
   ],
   "source": [
    "#Choisir plusieurs éléments au hasard à partir d'un tableau Numpy\n",
    "tab = np.arange(0, 21)\n",
    "np.random.choice(tab, 6)"
   ]
  },
  {
   "cell_type": "code",
   "execution_count": 12,
   "metadata": {},
   "outputs": [
    {
     "data": {
      "text/plain": [
       "array([[17, 18,  8],\n",
       "       [18, 11, 14]])"
      ]
     },
     "execution_count": 12,
     "metadata": {},
     "output_type": "execute_result"
    }
   ],
   "source": [
    "#Choisir un élément au hasard à partir d'un tableau Numpy\n",
    "tab = np.arange(0, 21)\n",
    "np.random.choice(tab,(2,3))"
   ]
  },
  {
   "cell_type": "markdown",
   "metadata": {},
   "source": [
    "### Créer une matrice 3X4 à partir de arange()."
   ]
  },
  {
   "cell_type": "code",
   "execution_count": 183,
   "metadata": {},
   "outputs": [
    {
     "name": "stdout",
     "output_type": "stream",
     "text": [
      "[ 0  1  2  3  4  5  6  7  8  9 10 11]\n",
      "[[ 0  1  2  3]\n",
      " [ 4  5  6  7]\n",
      " [ 8  9 10 11]]\n"
     ]
    }
   ],
   "source": [
    "tab1 = np.arange(12)\n",
    "print(tab1)\n",
    "tab2 = tab1.reshape((3,4))\n",
    "print(tab2)"
   ]
  },
  {
   "cell_type": "markdown",
   "metadata": {},
   "source": [
    "### Créer un vecteur contenant 7 valeurs uniformémet distribuées entre 5 et 50."
   ]
  },
  {
   "cell_type": "code",
   "execution_count": 187,
   "metadata": {},
   "outputs": [
    {
     "data": {
      "text/plain": [
       "array([ 5. , 12.5, 20. , 27.5, 35. , 42.5, 50. ])"
      ]
     },
     "execution_count": 187,
     "metadata": {},
     "output_type": "execute_result"
    }
   ],
   "source": [
    "np.linspace(5, 50, 7)"
   ]
  },
  {
   "cell_type": "markdown",
   "metadata": {},
   "source": [
    "### Un vecteur contenant 5 entiers aléatoire entre 0 et 10."
   ]
  },
  {
   "cell_type": "code",
   "execution_count": 195,
   "metadata": {},
   "outputs": [
    {
     "data": {
      "text/plain": [
       "array([2, 0, 5, 9, 1])"
      ]
     },
     "execution_count": 195,
     "metadata": {},
     "output_type": "execute_result"
    }
   ],
   "source": [
    "np.random.randint(0,10, 5)"
   ]
  },
  {
   "cell_type": "markdown",
   "metadata": {},
   "source": [
    "### Le nombre de lignes et de colonnes d’une matrice donnée."
   ]
  },
  {
   "cell_type": "code",
   "execution_count": 200,
   "metadata": {},
   "outputs": [
    {
     "name": "stdout",
     "output_type": "stream",
     "text": [
      "Dimension  (5, 6)\n",
      "#lignes :  5\n",
      "#colonnes :  6\n",
      "#éléments :  30\n"
     ]
    }
   ],
   "source": [
    "tab = np.random.random((5,6))\n",
    "print(\"Dimension \",tab.shape)\n",
    "print(\"#lignes : \", tab.shape[0])\n",
    "print(\"#colonnes : \", tab.shape[1])\n",
    "print(\"#éléments : \", tab.size)"
   ]
  },
  {
   "cell_type": "markdown",
   "metadata": {},
   "source": [
    "### Une matrice remplie par des zéros sauf la diagonale qui est remplie par les valeurs 1, 2, 3, 4 et 5"
   ]
  },
  {
   "cell_type": "code",
   "execution_count": 201,
   "metadata": {},
   "outputs": [
    {
     "data": {
      "text/plain": [
       "array([[1, 0, 0, 0, 0],\n",
       "       [0, 2, 0, 0, 0],\n",
       "       [0, 0, 3, 0, 0],\n",
       "       [0, 0, 0, 4, 0],\n",
       "       [0, 0, 0, 0, 5]])"
      ]
     },
     "execution_count": 201,
     "metadata": {},
     "output_type": "execute_result"
    }
   ],
   "source": [
    "np.diag([1, 2, 3, 4 ,5])"
   ]
  },
  {
   "cell_type": "markdown",
   "metadata": {},
   "source": [
    "### La somme de tous les élements, la somme de chaque colonne et la somme de chaque ligne."
   ]
  },
  {
   "cell_type": "code",
   "execution_count": 206,
   "metadata": {},
   "outputs": [
    {
     "name": "stdout",
     "output_type": "stream",
     "text": [
      "Matrice: [[10 20 30 40]\n",
      " [ 1  2  3  4]\n",
      " [13 14 15 16]]\n",
      "Somme des éléments de la matrice: 168\n",
      "Somme des colonnes de la matrice: [24 36 48 60]\n",
      "Somme des lignes de la matrice: [100  10  58]\n"
     ]
    }
   ],
   "source": [
    "tab = np.array([[10, 20, 30, 40],[1,2,3,4],[13,14,15, 16]])\n",
    "print(\"Matrice:\",tab)\n",
    "print(\"Somme des éléments de la matrice:\",np.sum(tab))\n",
    "print(\"Somme des colonnes de la matrice:\",np.sum(tab, axis=0))\n",
    "print(\"Somme des lignes de la matrice:\",np.sum(tab, axis=1))"
   ]
  },
  {
   "cell_type": "markdown",
   "metadata": {},
   "source": [
    "### La multiplication de deux matrices."
   ]
  },
  {
   "cell_type": "code",
   "execution_count": 214,
   "metadata": {},
   "outputs": [
    {
     "name": "stdout",
     "output_type": "stream",
     "text": [
      "tab1 [[ 1  2  3]\n",
      " [10 20 30]]\n",
      "tab2 [[ 1  0  3]\n",
      " [10  0 30]]\n",
      "tab3 [[ 1  2]\n",
      " [10 20]\n",
      " [ 4  5]]\n",
      "Somme de tab1 et tab2 [[ 2  2  6]\n",
      " [20 20 60]]\n",
      "Produit élément par élément  [[  1   0   9]\n",
      " [100   0 900]]\n",
      "Produit matricielle  [[ 33  57]\n",
      " [330 570]]\n"
     ]
    }
   ],
   "source": [
    "tab1 = np.array([[1,2,3],[10,20,30]])\n",
    "tab2 = np.array([[1,0,3],[10,0,30]])\n",
    "tab3 = np.array([[1,2],[10,20],[4,5]])\n",
    "print(\"tab1\", tab1)\n",
    "print(\"tab2\",tab2)\n",
    "print(\"tab3\", tab3)\n",
    "somme  = tab1+tab2\n",
    "print(\"Somme de tab1 et tab2\", somme)\n",
    "print(\"Produit élément par élément \",tab1*tab2)\n",
    "print(\"Produit matricielle \", np.dot(tab1, tab3))"
   ]
  },
  {
   "cell_type": "markdown",
   "metadata": {},
   "source": [
    "### Le déterminant d’une matrice carrée."
   ]
  },
  {
   "cell_type": "code",
   "execution_count": 216,
   "metadata": {},
   "outputs": [
    {
     "data": {
      "text/plain": [
       "1.1102230246251546e-15"
      ]
     },
     "execution_count": 216,
     "metadata": {},
     "output_type": "execute_result"
    }
   ],
   "source": [
    "tab1 = np.array([[1,2],[10,20]])\n",
    "np.linalg.det(tab1)"
   ]
  },
  {
   "cell_type": "markdown",
   "metadata": {},
   "source": [
    "### La norme d’un vecteur ou d’une matrice."
   ]
  },
  {
   "cell_type": "code",
   "execution_count": 217,
   "metadata": {},
   "outputs": [
    {
     "data": {
      "text/plain": [
       "37.603191353926334"
      ]
     },
     "execution_count": 217,
     "metadata": {},
     "output_type": "execute_result"
    }
   ],
   "source": [
    "tab1 = np.array([[1,2,3],[10,20,30]])\n",
    "np.linalg.norm(tab1)"
   ]
  },
  {
   "cell_type": "code",
   "execution_count": 219,
   "metadata": {},
   "outputs": [
    {
     "data": {
      "text/plain": [
       "30.903074280724887"
      ]
     },
     "execution_count": 219,
     "metadata": {},
     "output_type": "execute_result"
    }
   ],
   "source": [
    "tab3 = np.arange(10,16)\n",
    "np.linalg.norm(tab3)"
   ]
  },
  {
   "cell_type": "markdown",
   "metadata": {},
   "source": [
    "### L’inverse d’une matrice"
   ]
  },
  {
   "cell_type": "code",
   "execution_count": 220,
   "metadata": {},
   "outputs": [
    {
     "data": {
      "text/plain": [
       "array([[ 1.80143985e+16, -1.80143985e+15],\n",
       "       [-9.00719925e+15,  9.00719925e+14]])"
      ]
     },
     "execution_count": 220,
     "metadata": {},
     "output_type": "execute_result"
    }
   ],
   "source": [
    "tab1 = np.array([[1,2],[10,20]])\n",
    "np.linalg.inv(tab1)"
   ]
  },
  {
   "cell_type": "markdown",
   "metadata": {},
   "source": [
    "### La somme de la diagonale d’une matrice."
   ]
  },
  {
   "cell_type": "code",
   "execution_count": 222,
   "metadata": {},
   "outputs": [
    {
     "name": "stdout",
     "output_type": "stream",
     "text": [
      "[[ 1  2]\n",
      " [10 20]]\n",
      "21\n"
     ]
    }
   ],
   "source": [
    "tab1 = np.array([[1,2],[10,20]])\n",
    "print(tab1)\n",
    "print(np.trace(tab1))"
   ]
  },
  {
   "cell_type": "markdown",
   "metadata": {},
   "source": [
    "### La matrice triangulaire inférieur dans la décomposition de Cholesky"
   ]
  },
  {
   "cell_type": "code",
   "execution_count": 225,
   "metadata": {},
   "outputs": [
    {
     "name": "stdout",
     "output_type": "stream",
     "text": [
      "[[  4  12 -16]\n",
      " [ 12  37 -53]\n",
      " [-16 -53  98]]\n"
     ]
    },
    {
     "data": {
      "text/plain": [
       "array([[ 2.,  0.,  0.],\n",
       "       [ 6.,  1.,  0.],\n",
       "       [-8., -5.,  3.]])"
      ]
     },
     "execution_count": 225,
     "metadata": {},
     "output_type": "execute_result"
    }
   ],
   "source": [
    "tab1 = np.array([[4, 12, -16],[12, 37, -53],[-16,-53,98]])\n",
    "print(tab1)\n",
    "Triangulaire = np.linalg.cholesky(tab1)\n",
    "Triangulaire"
   ]
  },
  {
   "cell_type": "markdown",
   "metadata": {},
   "source": [
    "### La racine des polynomes suivants :\n",
    "\n",
    "a) x2 − 4x + 7.\n",
    "\n",
    "b) x4 − 11x3 + 9x2 + 11x – 10\n"
   ]
  },
  {
   "cell_type": "code",
   "execution_count": 229,
   "metadata": {},
   "outputs": [
    {
     "data": {
      "text/plain": [
       "array([2.+1.73205081j, 2.-1.73205081j])"
      ]
     },
     "execution_count": 229,
     "metadata": {},
     "output_type": "execute_result"
    }
   ],
   "source": [
    "np.roots([1, -4, 7])"
   ]
  },
  {
   "cell_type": "code",
   "execution_count": 230,
   "metadata": {},
   "outputs": [
    {
     "data": {
      "text/plain": [
       "array([10.+0.0000000e+00j, -1.+0.0000000e+00j,  1.+9.6357437e-09j,\n",
       "        1.-9.6357437e-09j])"
      ]
     },
     "execution_count": 230,
     "metadata": {},
     "output_type": "execute_result"
    }
   ],
   "source": [
    "np.roots([1, -11, 9, 11, -10])"
   ]
  }
 ],
 "metadata": {
  "kernelspec": {
   "display_name": "Python 3",
   "language": "python",
   "name": "python3"
  },
  "language_info": {
   "codemirror_mode": {
    "name": "ipython",
    "version": 3
   },
   "file_extension": ".py",
   "mimetype": "text/x-python",
   "name": "python",
   "nbconvert_exporter": "python",
   "pygments_lexer": "ipython3",
   "version": "3.8.3"
  }
 },
 "nbformat": 4,
 "nbformat_minor": 4
}
